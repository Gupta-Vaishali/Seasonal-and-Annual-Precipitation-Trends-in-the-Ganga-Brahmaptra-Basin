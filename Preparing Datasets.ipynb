{
 "cells": [
  {
   "cell_type": "code",
   "execution_count": 6,
   "id": "ad29b6c5",
   "metadata": {},
   "outputs": [],
   "source": [
    "import pandas as pd\n",
    "import numpy as np\n",
    "from altitudo import altitudo"
   ]
  },
  {
   "cell_type": "code",
   "execution_count": 7,
   "id": "2f86174c",
   "metadata": {},
   "outputs": [
    {
     "name": "stdout",
     "output_type": "stream",
     "text": [
      "Requirement already satisfied: xarray in /Users/vaishaligupta/opt/anaconda3/lib/python3.8/site-packages (0.20.1)\n",
      "Requirement already satisfied: numpy>=1.18 in /Users/vaishaligupta/opt/anaconda3/lib/python3.8/site-packages (from xarray) (1.20.1)\n",
      "Requirement already satisfied: pandas>=1.1 in /Users/vaishaligupta/opt/anaconda3/lib/python3.8/site-packages (from xarray) (1.2.4)\n",
      "Requirement already satisfied: python-dateutil>=2.7.3 in /Users/vaishaligupta/opt/anaconda3/lib/python3.8/site-packages (from pandas>=1.1->xarray) (2.8.1)\n",
      "Requirement already satisfied: pytz>=2017.3 in /Users/vaishaligupta/opt/anaconda3/lib/python3.8/site-packages (from pandas>=1.1->xarray) (2021.1)\n",
      "Requirement already satisfied: six>=1.5 in /Users/vaishaligupta/opt/anaconda3/lib/python3.8/site-packages (from python-dateutil>=2.7.3->pandas>=1.1->xarray) (1.15.0)\n",
      "Requirement already satisfied: netcdf4 in /Users/vaishaligupta/opt/anaconda3/lib/python3.8/site-packages (1.5.8)\n",
      "Requirement already satisfied: numpy>=1.9 in /Users/vaishaligupta/opt/anaconda3/lib/python3.8/site-packages (from netcdf4) (1.20.1)\n",
      "Requirement already satisfied: cftime in /Users/vaishaligupta/opt/anaconda3/lib/python3.8/site-packages (from netcdf4) (1.5.1.1)\n"
     ]
    }
   ],
   "source": [
    "!pip install xarray\n",
    "!pip install netcdf4"
   ]
  },
  {
   "cell_type": "code",
   "execution_count": 8,
   "id": "887133c6",
   "metadata": {},
   "outputs": [],
   "source": [
    "import xarray as xr"
   ]
  },
  {
   "cell_type": "markdown",
   "id": "efbc7ec3",
   "metadata": {},
   "source": [
    "# Annual Dataset"
   ]
  },
  {
   "cell_type": "code",
   "execution_count": 10,
   "id": "0501df7e",
   "metadata": {},
   "outputs": [],
   "source": [
    "path = '/Users/vaishaligupta/Desktop/IT 7th Sem/DM project/Datasets/yearly/CDR_basins_l24030025450_2021-12-07062500pm.nc'\n",
    "\n",
    "# Netcdf4 file to df & Load the dataset\n",
    "ds = xr.open_dataset(path,engine='netcdf4')\n",
    "df = ds.to_dataframe()\n",
    "df.to_csv(\"annual_dataset.csv\")\n",
    "df = pd.read_csv(\"annual_dataset.csv\")\n",
    "df.head()\n",
    "\n",
    "# Clean the dataset\n",
    "remove_rows = []\n",
    "for i in df.index :\n",
    "    if df.loc[i,'precip'] == -99.0 :\n",
    "        remove_rows.append(i)\n",
    "df.drop(remove_rows, inplace=True)\n",
    "\n",
    "# Get altitudes\n",
    "elevation = {}\n",
    "for i in df.index :\n",
    "    key = str(df.loc[i,'lat']) + \" \" + str(df.loc[i,'lon'])\n",
    "    if key in elevation :\n",
    "        df.loc[i,'altitude'] = elevation[key]\n",
    "    else :\n",
    "        elevation[key] = altitudo(lat=df.loc[i,'lat'], lon=df.loc[i,'lon'])# Returns meters by default\n",
    "        df.loc[i,'altitude'] = elevation[key]\n",
    "        \n",
    "# Remove unnecessary columns\n",
    "df.head()\n",
    "cols = ['crs']\n",
    "df.drop(cols, axis = 1, inplace=True)\n",
    "    \n",
    "# Save the dataset\n",
    "df.to_csv('clean_annual_dataset.csv')"
   ]
  },
  {
   "cell_type": "code",
   "execution_count": 12,
   "id": "24490aed",
   "metadata": {},
   "outputs": [
    {
     "data": {
      "text/plain": [
       "lon         0\n",
       "lat         0\n",
       "datetime    0\n",
       "precip      0\n",
       "altitude    0\n",
       "dtype: int64"
      ]
     },
     "execution_count": 12,
     "metadata": {},
     "output_type": "execute_result"
    }
   ],
   "source": [
    "df.isna().sum()"
   ]
  },
  {
   "cell_type": "code",
   "execution_count": 13,
   "id": "0283ae3a",
   "metadata": {},
   "outputs": [
    {
     "data": {
      "text/html": [
       "<div>\n",
       "<style scoped>\n",
       "    .dataframe tbody tr th:only-of-type {\n",
       "        vertical-align: middle;\n",
       "    }\n",
       "\n",
       "    .dataframe tbody tr th {\n",
       "        vertical-align: top;\n",
       "    }\n",
       "\n",
       "    .dataframe thead th {\n",
       "        text-align: right;\n",
       "    }\n",
       "</style>\n",
       "<table border=\"1\" class=\"dataframe\">\n",
       "  <thead>\n",
       "    <tr style=\"text-align: right;\">\n",
       "      <th></th>\n",
       "      <th>lon</th>\n",
       "      <th>lat</th>\n",
       "      <th>precip</th>\n",
       "      <th>altitude</th>\n",
       "    </tr>\n",
       "  </thead>\n",
       "  <tbody>\n",
       "    <tr>\n",
       "      <th>count</th>\n",
       "      <td>87657.000000</td>\n",
       "      <td>87657.000000</td>\n",
       "      <td>87657.000000</td>\n",
       "      <td>87657.000000</td>\n",
       "    </tr>\n",
       "    <tr>\n",
       "      <th>mean</th>\n",
       "      <td>85.074734</td>\n",
       "      <td>27.183770</td>\n",
       "      <td>1268.379325</td>\n",
       "      <td>1641.558655</td>\n",
       "    </tr>\n",
       "    <tr>\n",
       "      <th>std</th>\n",
       "      <td>6.192002</td>\n",
       "      <td>2.071022</td>\n",
       "      <td>664.946090</td>\n",
       "      <td>1990.723919</td>\n",
       "    </tr>\n",
       "    <tr>\n",
       "      <th>min</th>\n",
       "      <td>73.500000</td>\n",
       "      <td>22.750000</td>\n",
       "      <td>165.827730</td>\n",
       "      <td>1.000000</td>\n",
       "    </tr>\n",
       "    <tr>\n",
       "      <th>25%</th>\n",
       "      <td>79.750000</td>\n",
       "      <td>25.500000</td>\n",
       "      <td>840.165700</td>\n",
       "      <td>147.000000</td>\n",
       "    </tr>\n",
       "    <tr>\n",
       "      <th>50%</th>\n",
       "      <td>84.500000</td>\n",
       "      <td>27.250000</td>\n",
       "      <td>1071.924300</td>\n",
       "      <td>428.000000</td>\n",
       "    </tr>\n",
       "    <tr>\n",
       "      <th>75%</th>\n",
       "      <td>90.500000</td>\n",
       "      <td>29.000000</td>\n",
       "      <td>1436.540500</td>\n",
       "      <td>3721.500000</td>\n",
       "    </tr>\n",
       "    <tr>\n",
       "      <th>max</th>\n",
       "      <td>97.500000</td>\n",
       "      <td>31.500000</td>\n",
       "      <td>5419.867700</td>\n",
       "      <td>6167.000000</td>\n",
       "    </tr>\n",
       "  </tbody>\n",
       "</table>\n",
       "</div>"
      ],
      "text/plain": [
       "                lon           lat        precip      altitude\n",
       "count  87657.000000  87657.000000  87657.000000  87657.000000\n",
       "mean      85.074734     27.183770   1268.379325   1641.558655\n",
       "std        6.192002      2.071022    664.946090   1990.723919\n",
       "min       73.500000     22.750000    165.827730      1.000000\n",
       "25%       79.750000     25.500000    840.165700    147.000000\n",
       "50%       84.500000     27.250000   1071.924300    428.000000\n",
       "75%       90.500000     29.000000   1436.540500   3721.500000\n",
       "max       97.500000     31.500000   5419.867700   6167.000000"
      ]
     },
     "execution_count": 13,
     "metadata": {},
     "output_type": "execute_result"
    }
   ],
   "source": [
    "df.describe()"
   ]
  },
  {
   "cell_type": "markdown",
   "id": "877b3a1c",
   "metadata": {},
   "source": [
    "# Monthly Dataset"
   ]
  },
  {
   "cell_type": "code",
   "execution_count": 14,
   "id": "bd3a5cde",
   "metadata": {},
   "outputs": [],
   "source": [
    "path = '/Users/vaishaligupta/Desktop/IT 7th Sem/DM project/Datasets/monthly/CDR_basins_l24030025450_2021-12-07063337pm.nc'\n",
    "\n",
    "# Netcdf4 file to df & Load the dataset\n",
    "ds = xr.open_dataset(path,engine='netcdf4')\n",
    "df = ds.to_dataframe()\n",
    "df.to_csv(\"monthly_dataset.csv\")\n",
    "df = pd.read_csv(\"monthly_dataset.csv\")\n",
    "df.head()\n",
    "\n",
    "# Clean the dataset\n",
    "remove_rows = []\n",
    "for i in df.index :\n",
    "    if df.loc[i,'precip'] == -99.0 :\n",
    "        remove_rows.append(i)\n",
    "df.drop(remove_rows, inplace=True)\n",
    "\n",
    "# Get altitudes\n",
    "for i in df.index :\n",
    "    key = str(df.loc[i,'lat']) + \" \" + str(df.loc[i,'lon'])\n",
    "    if key in elevation :\n",
    "        df.loc[i,'altitude'] = elevation[key]\n",
    "    else :\n",
    "        elevation[key] = altitudo(lat=df.loc[i,'lat'], lon=df.loc[i,'lon'])# Returns meters by default\n",
    "        df.loc[i,'altitude'] = elevation[key]\n",
    "\n",
    "# Remove unnecessary columns\n",
    "df.head()\n",
    "cols = ['crs']\n",
    "df.drop(cols, axis = 1, inplace=True)\n",
    "    \n",
    "# Save the dataset\n",
    "df.to_csv('clean_monthly_dataset.csv')"
   ]
  },
  {
   "cell_type": "code",
   "execution_count": 15,
   "id": "bb2a1846",
   "metadata": {},
   "outputs": [
    {
     "data": {
      "text/plain": [
       "lon         0\n",
       "lat         0\n",
       "datetime    0\n",
       "precip      0\n",
       "altitude    0\n",
       "dtype: int64"
      ]
     },
     "execution_count": 15,
     "metadata": {},
     "output_type": "execute_result"
    }
   ],
   "source": [
    "df.isna().sum()"
   ]
  },
  {
   "cell_type": "code",
   "execution_count": 16,
   "id": "20f8dc26",
   "metadata": {},
   "outputs": [
    {
     "data": {
      "text/html": [
       "<div>\n",
       "<style scoped>\n",
       "    .dataframe tbody tr th:only-of-type {\n",
       "        vertical-align: middle;\n",
       "    }\n",
       "\n",
       "    .dataframe tbody tr th {\n",
       "        vertical-align: top;\n",
       "    }\n",
       "\n",
       "    .dataframe thead th {\n",
       "        text-align: right;\n",
       "    }\n",
       "</style>\n",
       "<table border=\"1\" class=\"dataframe\">\n",
       "  <thead>\n",
       "    <tr style=\"text-align: right;\">\n",
       "      <th></th>\n",
       "      <th>lon</th>\n",
       "      <th>lat</th>\n",
       "      <th>precip</th>\n",
       "      <th>altitude</th>\n",
       "    </tr>\n",
       "  </thead>\n",
       "  <tbody>\n",
       "    <tr>\n",
       "      <th>count</th>\n",
       "      <td>1.025477e+06</td>\n",
       "      <td>1.025477e+06</td>\n",
       "      <td>1.025477e+06</td>\n",
       "      <td>1.025477e+06</td>\n",
       "    </tr>\n",
       "    <tr>\n",
       "      <th>mean</th>\n",
       "      <td>8.506239e+01</td>\n",
       "      <td>2.718199e+01</td>\n",
       "      <td>1.054150e+02</td>\n",
       "      <td>1.640035e+03</td>\n",
       "    </tr>\n",
       "    <tr>\n",
       "      <th>std</th>\n",
       "      <td>6.198057e+00</td>\n",
       "      <td>2.070721e+00</td>\n",
       "      <td>1.428125e+02</td>\n",
       "      <td>1.989949e+03</td>\n",
       "    </tr>\n",
       "    <tr>\n",
       "      <th>min</th>\n",
       "      <td>7.350000e+01</td>\n",
       "      <td>2.275000e+01</td>\n",
       "      <td>0.000000e+00</td>\n",
       "      <td>1.000000e+00</td>\n",
       "    </tr>\n",
       "    <tr>\n",
       "      <th>25%</th>\n",
       "      <td>7.975000e+01</td>\n",
       "      <td>2.550000e+01</td>\n",
       "      <td>7.251548e+00</td>\n",
       "      <td>1.470000e+02</td>\n",
       "    </tr>\n",
       "    <tr>\n",
       "      <th>50%</th>\n",
       "      <td>8.450000e+01</td>\n",
       "      <td>2.725000e+01</td>\n",
       "      <td>3.732407e+01</td>\n",
       "      <td>4.280000e+02</td>\n",
       "    </tr>\n",
       "    <tr>\n",
       "      <th>75%</th>\n",
       "      <td>9.050000e+01</td>\n",
       "      <td>2.900000e+01</td>\n",
       "      <td>1.596819e+02</td>\n",
       "      <td>3.689500e+03</td>\n",
       "    </tr>\n",
       "    <tr>\n",
       "      <th>max</th>\n",
       "      <td>9.750000e+01</td>\n",
       "      <td>3.150000e+01</td>\n",
       "      <td>1.497072e+03</td>\n",
       "      <td>6.167000e+03</td>\n",
       "    </tr>\n",
       "  </tbody>\n",
       "</table>\n",
       "</div>"
      ],
      "text/plain": [
       "                lon           lat        precip      altitude\n",
       "count  1.025477e+06  1.025477e+06  1.025477e+06  1.025477e+06\n",
       "mean   8.506239e+01  2.718199e+01  1.054150e+02  1.640035e+03\n",
       "std    6.198057e+00  2.070721e+00  1.428125e+02  1.989949e+03\n",
       "min    7.350000e+01  2.275000e+01  0.000000e+00  1.000000e+00\n",
       "25%    7.975000e+01  2.550000e+01  7.251548e+00  1.470000e+02\n",
       "50%    8.450000e+01  2.725000e+01  3.732407e+01  4.280000e+02\n",
       "75%    9.050000e+01  2.900000e+01  1.596819e+02  3.689500e+03\n",
       "max    9.750000e+01  3.150000e+01  1.497072e+03  6.167000e+03"
      ]
     },
     "execution_count": 16,
     "metadata": {},
     "output_type": "execute_result"
    }
   ],
   "source": [
    "df.describe()"
   ]
  },
  {
   "cell_type": "code",
   "execution_count": null,
   "id": "a7e710fb",
   "metadata": {},
   "outputs": [],
   "source": []
  }
 ],
 "metadata": {
  "kernelspec": {
   "display_name": "Python 3",
   "language": "python",
   "name": "python3"
  },
  "language_info": {
   "codemirror_mode": {
    "name": "ipython",
    "version": 3
   },
   "file_extension": ".py",
   "mimetype": "text/x-python",
   "name": "python",
   "nbconvert_exporter": "python",
   "pygments_lexer": "ipython3",
   "version": "3.8.8"
  }
 },
 "nbformat": 4,
 "nbformat_minor": 5
}
