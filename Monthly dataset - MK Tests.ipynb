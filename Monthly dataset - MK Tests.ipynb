{
 "cells": [
  {
   "cell_type": "code",
   "execution_count": 1,
   "id": "48978399",
   "metadata": {},
   "outputs": [
    {
     "name": "stdout",
     "output_type": "stream",
     "text": [
      "Requirement already satisfied: pymannkendall in /Users/vaishaligupta/opt/anaconda3/lib/python3.8/site-packages (1.4.2)\r\n",
      "Requirement already satisfied: scipy in /Users/vaishaligupta/opt/anaconda3/lib/python3.8/site-packages (from pymannkendall) (1.6.2)\r\n",
      "Requirement already satisfied: numpy in /Users/vaishaligupta/opt/anaconda3/lib/python3.8/site-packages (from pymannkendall) (1.20.1)\r\n"
     ]
    }
   ],
   "source": [
    "!pip install pymannkendall"
   ]
  },
  {
   "cell_type": "code",
   "execution_count": 2,
   "id": "fef4a326",
   "metadata": {},
   "outputs": [
    {
     "name": "stdout",
     "output_type": "stream",
     "text": [
      "Requirement already satisfied: pyhomogeneity in /Users/vaishaligupta/opt/anaconda3/lib/python3.8/site-packages (1.1)\r\n",
      "Requirement already satisfied: numpy in /Users/vaishaligupta/opt/anaconda3/lib/python3.8/site-packages (from pyhomogeneity) (1.20.1)\r\n",
      "Requirement already satisfied: scipy in /Users/vaishaligupta/opt/anaconda3/lib/python3.8/site-packages (from pyhomogeneity) (1.6.2)\r\n"
     ]
    }
   ],
   "source": [
    "!pip install pyhomogeneity"
   ]
  },
  {
   "cell_type": "code",
   "execution_count": 3,
   "id": "27b77d5a",
   "metadata": {},
   "outputs": [],
   "source": [
    "import pymannkendall as mk\n",
    "import pyhomogeneity as hg\n",
    "import numpy as np \n",
    "import pandas as pd"
   ]
  },
  {
   "cell_type": "markdown",
   "id": "2689dffa",
   "metadata": {},
   "source": [
    "# Monthly Dataset"
   ]
  },
  {
   "cell_type": "markdown",
   "id": "35ef567e",
   "metadata": {},
   "source": [
    "## MK Test"
   ]
  },
  {
   "cell_type": "code",
   "execution_count": 31,
   "id": "36af137d",
   "metadata": {},
   "outputs": [
    {
     "name": "stdout",
     "output_type": "stream",
     "text": [
      "2310\n",
      "{'increasing': 850, 'decreasing': 2555, 'no trend': 24315}\n",
      "FINAL RESULTS : {'class_01': {'increasing': 8, 'decreasing': 203, 'no trend': 2099}, 'class_02': {'increasing': 4, 'decreasing': 156, 'no trend': 2150}, 'class_03': {'increasing': 134, 'decreasing': 38, 'no trend': 2138}, 'class_04': {'increasing': 291, 'decreasing': 59, 'no trend': 1960}, 'class_05': {'increasing': 64, 'decreasing': 80, 'no trend': 2166}, 'class_06': {'increasing': 28, 'decreasing': 335, 'no trend': 1947}, 'class_07': {'increasing': 217, 'decreasing': 533, 'no trend': 1560}, 'class_08': {'increasing': 1, 'decreasing': 327, 'no trend': 1982}, 'class_09': {'increasing': 0, 'decreasing': 518, 'no trend': 1792}, 'class_10': {'increasing': 4, 'decreasing': 52, 'no trend': 2254}, 'class_11': {'increasing': 97, 'decreasing': 66, 'no trend': 2147}, 'class_12': {'increasing': 2, 'decreasing': 188, 'no trend': 2120}}\n"
     ]
    }
   ],
   "source": [
    "path = 'clean_monthly_dataset.csv'\n",
    "\n",
    "# Loading the dataset\n",
    "annual_df = pd.read_csv(path)\n",
    "\n",
    "# Separate all the stations to perform MK test\n",
    "stations = {}\n",
    "for i in annual_df.index :\n",
    "    key = str(annual_df.loc[i,'lat']) + \"(--)\" + str(annual_df.loc[i,'lon'])\n",
    "    if key in stations :\n",
    "        if annual_df.loc[i,'datetime'][5:7] not in stations[key]['precip_pattern'] :\n",
    "            stations[key]['precip_pattern'][annual_df.loc[i,'datetime'][5:7]] = [annual_df.loc[i,'precip']]\n",
    "        else :\n",
    "            stations[key]['precip_pattern'][annual_df.loc[i,'datetime'][5:7]].append(annual_df.loc[i,'precip'])\n",
    "        stations[key]['count'] += 1\n",
    "    else :\n",
    "        stations[key] = {}\n",
    "        stations[key]['altitude'] = annual_df.loc[i,'altitude']\n",
    "        stations[key]['precip_pattern'] ={}\n",
    "        stations[key]['trend'],stations[key]['hypothesis'],stations[key]['p-value'],stations[key]['slope'] = {},{},{},{}\n",
    "        stations[key]['precip_pattern'][annual_df.loc[i,'datetime'][5:7]] = [annual_df.loc[i,'precip']]\n",
    "        stations[key]['count'] = 1\n",
    "#print(stations)\n",
    "print(len(stations))\n",
    "\n",
    "months = ['01','02','03','04','05','06','07','08','09','10','11','12']\n",
    "# Perform MK Test\n",
    "mk_final_trends = {'increasing':0, 'decreasing':0, 'no trend': 0}\n",
    "for i in stations :\n",
    "    for j in stations[i]['precip_pattern'] :\n",
    "        data = stations[i]['precip_pattern'][j]\n",
    "        trend, h, p, z, Tau, s, var_s, slope, intercept = mk.original_test(data)\n",
    "        stations[i]['trend'][j] = trend\n",
    "        stations[i]['hypothesis'][j] = h\n",
    "        stations[i]['p-value'][j] = p\n",
    "        stations[i]['slope'][j] = slope\n",
    "        mk_final_trends[trend] += 1\n",
    "    #print(trend, \" based on \", stations[i]['count'], \" observations.\")\n",
    "print(mk_final_trends)\n",
    "\n",
    "# Results breakdown : class1 = jan, class2 = feb, and so on till class12 = dec\n",
    "final_results = {\n",
    "    'class_01': {\n",
    "        'increasing': 0,\n",
    "        'decreasing': 0,\n",
    "        'no trend': 0  \n",
    "    },\n",
    "    'class_02': {\n",
    "        'increasing': 0,\n",
    "        'decreasing': 0,\n",
    "        'no trend': 0  \n",
    "    },\n",
    "    'class_03': {\n",
    "        'increasing': 0,\n",
    "        'decreasing': 0,\n",
    "        'no trend': 0  \n",
    "    },\n",
    "    'class_04': {\n",
    "        'increasing': 0,\n",
    "        'decreasing': 0,\n",
    "        'no trend': 0  \n",
    "    },\n",
    "    'class_05': {\n",
    "        'increasing': 0,\n",
    "        'decreasing': 0,\n",
    "        'no trend': 0  \n",
    "    },'class_06': {\n",
    "        'increasing': 0,\n",
    "        'decreasing': 0,\n",
    "        'no trend': 0  \n",
    "    },\n",
    "    'class_07': {\n",
    "        'increasing': 0,\n",
    "        'decreasing': 0,\n",
    "        'no trend': 0  \n",
    "    },'class_08': {\n",
    "        'increasing': 0,\n",
    "        'decreasing': 0,\n",
    "        'no trend': 0  \n",
    "    },'class_09': {\n",
    "        'increasing': 0,\n",
    "        'decreasing': 0,\n",
    "        'no trend': 0  \n",
    "    },'class_10': {\n",
    "        'increasing': 0,\n",
    "        'decreasing': 0,\n",
    "        'no trend': 0  \n",
    "    },'class_11': {\n",
    "        'increasing': 0,\n",
    "        'decreasing': 0,\n",
    "        'no trend': 0  \n",
    "    },'class_12': {\n",
    "        'increasing': 0,\n",
    "        'decreasing': 0,\n",
    "        'no trend': 0  \n",
    "    }\n",
    "}\n",
    "\n",
    "for i in stations :\n",
    "    for j in stations[i]['precip_pattern'] :\n",
    "        final_results['class_'+j][stations[i]['trend'][j]] += 1\n",
    "print(\"FINAL RESULTS :\", final_results)"
   ]
  },
  {
   "cell_type": "code",
   "execution_count": null,
   "id": "00fcaf86",
   "metadata": {},
   "outputs": [],
   "source": []
  },
  {
   "cell_type": "markdown",
   "id": "e9addead",
   "metadata": {},
   "source": [
    "## MMK Test as given by Yang and Wue in 2004"
   ]
  },
  {
   "cell_type": "code",
   "execution_count": 32,
   "id": "8cc7a186",
   "metadata": {},
   "outputs": [
    {
     "name": "stdout",
     "output_type": "stream",
     "text": [
      "2310\n",
      "{'increasing': 966, 'decreasing': 2005, 'no trend': 24749}\n",
      "FINAL RESULTS : {'class_01': {'increasing': 2, 'decreasing': 49, 'no trend': 2259}, 'class_02': {'increasing': 0, 'decreasing': 22, 'no trend': 2288}, 'class_03': {'increasing': 74, 'decreasing': 4, 'no trend': 2232}, 'class_04': {'increasing': 411, 'decreasing': 40, 'no trend': 1859}, 'class_05': {'increasing': 101, 'decreasing': 14, 'no trend': 2195}, 'class_06': {'increasing': 59, 'decreasing': 557, 'no trend': 1694}, 'class_07': {'increasing': 314, 'decreasing': 292, 'no trend': 1704}, 'class_08': {'increasing': 0, 'decreasing': 250, 'no trend': 2060}, 'class_09': {'increasing': 0, 'decreasing': 394, 'no trend': 1916}, 'class_10': {'increasing': 1, 'decreasing': 104, 'no trend': 2205}, 'class_11': {'increasing': 4, 'decreasing': 184, 'no trend': 2122}, 'class_12': {'increasing': 0, 'decreasing': 95, 'no trend': 2215}}\n"
     ]
    }
   ],
   "source": [
    "path = 'clean_monthly_dataset.csv'\n",
    "\n",
    "# Loading the dataset\n",
    "annual_df = pd.read_csv(path)\n",
    "\n",
    "# Separate all the stations to perform MK test\n",
    "stations = {}\n",
    "for i in annual_df.index :\n",
    "    key = str(annual_df.loc[i,'lat']) + \"(--)\" + str(annual_df.loc[i,'lon'])\n",
    "    if key in stations :\n",
    "        if annual_df.loc[i,'datetime'][5:7] not in stations[key]['precip_pattern'] :\n",
    "            stations[key]['precip_pattern'][annual_df.loc[i,'datetime'][5:7]] = [annual_df.loc[i,'precip']]\n",
    "        else :\n",
    "            stations[key]['precip_pattern'][annual_df.loc[i,'datetime'][5:7]].append(annual_df.loc[i,'precip'])\n",
    "        stations[key]['count'] += 1\n",
    "    else :\n",
    "        stations[key] = {}\n",
    "        stations[key]['altitude'] = annual_df.loc[i,'altitude']\n",
    "        stations[key]['precip_pattern'] ={}\n",
    "        stations[key]['trend'],stations[key]['hypothesis'],stations[key]['p-value'],stations[key]['slope'] = {},{},{},{}\n",
    "        stations[key]['precip_pattern'][annual_df.loc[i,'datetime'][5:7]] = [annual_df.loc[i,'precip']]\n",
    "        stations[key]['count'] = 1\n",
    "#print(stations)\n",
    "print(len(stations))\n",
    "\n",
    "months = ['01','02','03','04','05','06','07','08','09','10','11','12']\n",
    "# Perform MMK Test\n",
    "mk_final_trends = {'increasing':0, 'decreasing':0, 'no trend': 0}\n",
    "for i in stations :\n",
    "    for j in stations[i]['precip_pattern'] :\n",
    "        data = stations[i]['precip_pattern'][j]\n",
    "        trend, h, p, z, Tau, s, var_s, slope, intercept = mk.pre_whitening_modification_test(data)\n",
    "        stations[i]['trend'][j] = trend\n",
    "        stations[i]['hypothesis'][j] = h\n",
    "        stations[i]['p-value'][j] = p\n",
    "        stations[i]['slope'][j] = slope\n",
    "        mk_final_trends[trend] += 1\n",
    "    #print(trend, \" based on \", stations[i]['count'], \" observations.\")\n",
    "print(mk_final_trends)\n",
    "\n",
    "# Results breakdown : class1 = jan, class2 = feb, and so on till class12 = dec\n",
    "final_results = {\n",
    "    'class_01': {\n",
    "        'increasing': 0,\n",
    "        'decreasing': 0,\n",
    "        'no trend': 0  \n",
    "    },\n",
    "    'class_02': {\n",
    "        'increasing': 0,\n",
    "        'decreasing': 0,\n",
    "        'no trend': 0  \n",
    "    },\n",
    "    'class_03': {\n",
    "        'increasing': 0,\n",
    "        'decreasing': 0,\n",
    "        'no trend': 0  \n",
    "    },\n",
    "    'class_04': {\n",
    "        'increasing': 0,\n",
    "        'decreasing': 0,\n",
    "        'no trend': 0  \n",
    "    },\n",
    "    'class_05': {\n",
    "        'increasing': 0,\n",
    "        'decreasing': 0,\n",
    "        'no trend': 0  \n",
    "    },'class_06': {\n",
    "        'increasing': 0,\n",
    "        'decreasing': 0,\n",
    "        'no trend': 0  \n",
    "    },\n",
    "    'class_07': {\n",
    "        'increasing': 0,\n",
    "        'decreasing': 0,\n",
    "        'no trend': 0  \n",
    "    },'class_08': {\n",
    "        'increasing': 0,\n",
    "        'decreasing': 0,\n",
    "        'no trend': 0  \n",
    "    },'class_09': {\n",
    "        'increasing': 0,\n",
    "        'decreasing': 0,\n",
    "        'no trend': 0  \n",
    "    },'class_10': {\n",
    "        'increasing': 0,\n",
    "        'decreasing': 0,\n",
    "        'no trend': 0  \n",
    "    },'class_11': {\n",
    "        'increasing': 0,\n",
    "        'decreasing': 0,\n",
    "        'no trend': 0  \n",
    "    },'class_12': {\n",
    "        'increasing': 0,\n",
    "        'decreasing': 0,\n",
    "        'no trend': 0  \n",
    "    }\n",
    "}\n",
    "\n",
    "for i in stations :\n",
    "    for j in stations[i]['precip_pattern'] :\n",
    "        final_results['class_'+j][stations[i]['trend'][j]] += 1\n",
    "print(\"FINAL RESULTS :\", final_results)"
   ]
  },
  {
   "cell_type": "code",
   "execution_count": null,
   "id": "05dccfa8",
   "metadata": {},
   "outputs": [],
   "source": []
  }
 ],
 "metadata": {
  "kernelspec": {
   "display_name": "Python 3",
   "language": "python",
   "name": "python3"
  },
  "language_info": {
   "codemirror_mode": {
    "name": "ipython",
    "version": 3
   },
   "file_extension": ".py",
   "mimetype": "text/x-python",
   "name": "python",
   "nbconvert_exporter": "python",
   "pygments_lexer": "ipython3",
   "version": "3.8.8"
  }
 },
 "nbformat": 4,
 "nbformat_minor": 5
}
